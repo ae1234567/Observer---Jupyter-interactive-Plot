{
 "cells": [
  {
   "cell_type": "markdown",
   "metadata": {},
   "source": [
    "#### Observer_00.ipynb  3-Mar  AE  \n",
    "*  use matplotlib with interactive widgets\n",
    "*  versions\n",
    " *  01 - from source  _ref_\n",
    " *  02 - using loader_Observer module (local)\n",
    " *  03 - expansion\n",
    "      1. insert MD cells to explain functionality\n",
    " *  04 ___"
   ]
  },
  {
   "cell_type": "code",
   "execution_count": 4,
   "metadata": {},
   "outputs": [
    {
     "name": "stdout",
     "output_type": "stream",
     "text": [
      "local import\n"
     ]
    },
    {
     "data": {
      "image/png": "[encoded data removed]",
      "text/plain": [
       "<Figure size 432x288 with 1 Axes>"
      ]
     },
     "metadata": {},
     "output_type": "display_data"
    },
    {
     "data": {
      "application/vnd.jupyter.widget-view+json": {
       "model_id": "d723f6364fcb48868f1d66abc168951f",
       "version_major": 2,
       "version_minor": 0
      },
      "text/plain": [
       "FloatSlider(value=0.5, description='coeff of x*Π*t', max=1.0, min=0.1)"
      ]
     },
     "metadata": {},
     "output_type": "display_data"
    }
   ],
   "source": [
    "%matplotlib inline\n",
    "# using AE module for most imports\n",
    "print(\"local import\")\n",
    "from loader_Observer \\\n",
    "    import *\n",
    "from IPython.display \\\n",
    "    import display, clear_output\n",
    "# set CONSTS from loaded modules\n",
    "sin  = np.sin\n",
    "cos  = np.cos\n",
    "Π    = np.pi\n",
    "AR   = np.arange\n",
    "LN   = np.linspace\n",
    "PLOT = plt\n",
    "INIT = PLOT.subplots\n",
    "DISP = display\n",
    "CLR  = clear_output\n",
    "SLID = widgets.FloatSlider\n",
    "\n",
    "# initialize; prevent redraw\n",
    "fig, ax = INIT()\n",
    "PLOT.close(fig) \n",
    "\n",
    "# set plot variables\n",
    "origin = 0.0\n",
    "ar_start = origin\n",
    "ar_end   = 1.0\n",
    "ar_incr  = 0.001\n",
    "ln_start = origin\n",
    "ln_end   = 2.0\n",
    "ln_incr  = 1000\n",
    "\n",
    "# set x and y axes\n",
    "t = AR(ar_start,\n",
    "       ar_end,\n",
    "       ar_incr)\n",
    "x = LN(ln_start,\n",
    "       ln_end,\n",
    "       ln_incr)\n",
    "# formula (arcsin)\n",
    "s = x*Π*t # this is what is to be scaled\n",
    "\n",
    "# create widget\n",
    "OBSV_f = SLID \\\n",
    "    ( description=('coeff of x*Π*t'),\n",
    "      min=0.1, max=1, step=0.1, \n",
    "      value=0.5 )\n",
    "\n",
    "freq = 1.0 # initialize frequency\n",
    "# frequency is arcsin coefficient\n",
    "def Plot_andDisplay(coeff):\n",
    "    ax.clear()\n",
    "    ax.plot(x, sin(s*coeff))\n",
    "    DISP(fig)\n",
    "#  CALL plot and display\n",
    "Plot_andDisplay(freq)\n",
    "\n",
    "#  observer\n",
    "def OBSV_f_change(change):\n",
    "    CLR(wait=True) # trigger:\n",
    "    Plot_andDisplay(change['new'])\n",
    "    DISP(OBSV_f)\n",
    "#  register observer\n",
    "OBSV_f.observe(OBSV_f_change, names='value')\n",
    "DISP(OBSV_f)"
   ]
  },
  {
   "cell_type": "code",
   "execution_count": null,
   "metadata": {},
   "outputs": [],
   "source": []
  }
 ],
 "metadata": {
  "kernelspec": {
   "display_name": "Python 3",
   "language": "python",
   "name": "python3"
  },
  "language_info": {
   "codemirror_mode": {
    "name": "ipython",
    "version": 3
   },
   "file_extension": ".py",
   "mimetype": "text/x-python",
   "name": "python",
   "nbconvert_exporter": "python",
   "pygments_lexer": "ipython3",
   "version": "3.7.4"
  }
 },
 "nbformat": 4,
 "nbformat_minor": 2
}
